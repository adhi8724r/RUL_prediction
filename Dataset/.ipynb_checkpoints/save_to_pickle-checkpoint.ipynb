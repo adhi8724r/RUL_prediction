{
 "cells": [
  {
   "cell_type": "code",
   "execution_count": 1,
   "metadata": {},
   "outputs": [],
   "source": [
    "from pymatreader import read_mat\n",
    "import pandas as pd\n",
    "import numpy as np\n",
    "\n",
    "import os"
   ]
  },
  {
   "cell_type": "code",
   "execution_count": 2,
   "metadata": {},
   "outputs": [],
   "source": [
    "def to_sec(vec):\n",
    "    mon, day, hr, min, sec = vec[1:]\n",
    "    return (mon*30*86400 + day*86400 + hr*3600 + min*60 + sec)"
   ]
  },
  {
   "cell_type": "code",
   "execution_count": 3,
   "metadata": {},
   "outputs": [],
   "source": [
    "def save(mat):\n",
    "    data = read_mat(mat)\n",
    "    df = pd.DataFrame(data[mat[:-4]]['cycle'])\n",
    "\n",
    "    times_fromzero = [np.array(df['time'])[i] - np.array(df['time'][0]) for i in range(len(df))]\n",
    "    times = []\n",
    "    for i in times_fromzero:\n",
    "        times.append(to_sec(i))\n",
    "    df['time'] = times\n",
    "    df['data'] = df['data'].apply(lambda x: np.array(x))\n",
    "    df.to_pickle('data/' + mat[:-4] + '.pkl')"
   ]
  },
  {
   "cell_type": "code",
   "execution_count": 4,
   "metadata": {},
   "outputs": [],
   "source": [
    "names = ['B0005.mat','B0006.mat','B0007.mat','B0018.mat']"
   ]
  },
  {
   "cell_type": "code",
   "execution_count": 5,
   "metadata": {},
   "outputs": [],
   "source": [
    "\n",
    "for i in names: \n",
    "    save(i)"
   ]
  }
 ],
 "metadata": {
  "kernelspec": {
   "display_name": "Python 3",
   "language": "python",
   "name": "python3"
  },
  "language_info": {
   "codemirror_mode": {
    "name": "ipython",
    "version": 3
   },
   "file_extension": ".py",
   "mimetype": "text/x-python",
   "name": "python",
   "nbconvert_exporter": "python",
   "pygments_lexer": "ipython3",
   "version": "3.12.9"
  }
 },
 "nbformat": 4,
 "nbformat_minor": 2
}
